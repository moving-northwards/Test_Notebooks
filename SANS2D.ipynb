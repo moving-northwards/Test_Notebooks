{
 "cells": [
  {
   "cell_type": "markdown",
   "metadata": {},
   "source": [
    "# McStas  "
   ]
  },
  {
   "cell_type": "markdown",
   "metadata": {},
   "source": [
    "## First time setup McStas Script"
   ]
  },
  {
   "cell_type": "code",
   "execution_count": 1,
   "metadata": {
    "ExecuteTime": {
     "end_time": "2020-08-06T12:47:16.976839Z",
     "start_time": "2020-08-06T12:47:16.866945Z"
    }
   },
   "outputs": [],
   "source": [
    "from mcstasscript.interface import functions"
   ]
  },
  {
   "cell_type": "code",
   "execution_count": 2,
   "metadata": {
    "ExecuteTime": {
     "end_time": "2020-08-06T12:47:18.357570Z",
     "start_time": "2020-08-06T12:47:18.349060Z"
    }
   },
   "outputs": [],
   "source": [
    "# Each time a new conda env is created and used McStas must be configured \n",
    "# Ubuntu\n",
    "\n",
    "my_configurator = functions.Configurator()\n",
    "my_configurator.set_mcrun_path(\"/usr/share/mcstas/2.6.1/bin/\")\n",
    "my_configurator.set_mcstas_path(\"/usr/share/mcstas/2.6.1\")"
   ]
  },
  {
   "cell_type": "code",
   "execution_count": null,
   "metadata": {
    "ExecuteTime": {
     "end_time": "2020-08-06T11:49:09.347832Z",
     "start_time": "2020-08-06T11:49:09.339384Z"
    }
   },
   "outputs": [],
   "source": [
    "# Each time a new conda env is created and used McStas must be configured \n",
    "# Centos\n",
    "\n",
    "my_configurator = functions.Configurator()\n",
    "my_configurator.set_mcrun_path(\"/usr/local/bin/\")\n",
    "my_configurator.set_mcstas_path(\"/usr/local/mcstas/2.5/\")"
   ]
  },
  {
   "cell_type": "markdown",
   "metadata": {},
   "source": [
    "## McStas instr file"
   ]
  },
  {
   "cell_type": "code",
   "execution_count": 3,
   "metadata": {
    "ExecuteTime": {
     "end_time": "2020-08-06T12:47:21.290663Z",
     "start_time": "2020-08-06T12:47:20.683983Z"
    }
   },
   "outputs": [],
   "source": [
    "from mcstasscript.interface import instr, plotter, functions"
   ]
  },
  {
   "cell_type": "code",
   "execution_count": 4,
   "metadata": {
    "ExecuteTime": {
     "end_time": "2020-08-06T12:47:21.306269Z",
     "start_time": "2020-08-06T12:47:21.292536Z"
    }
   },
   "outputs": [],
   "source": [
    "ISIS_SANS2d_Mantid = instr.McStas_instr(\"ISIS_SANS2d_Mantid_generated\")\n",
    "ISIS_SANS2d_Mantid.add_parameter(\"double\", \"L1\", value=3.926)\n",
    "ISIS_SANS2d_Mantid.add_parameter(\"double\", \"A1w\", value=0.03)\n",
    "ISIS_SANS2d_Mantid.add_parameter(\"double\", \"A1h\", value=0.02)\n",
    "ISIS_SANS2d_Mantid.add_parameter(\"double\", \"S6\", value=0.006)\n",
    "ISIS_SANS2d_Mantid.add_parameter(\"double\", \"A2\", value=0.006)\n",
    "ISIS_SANS2d_Mantid.add_parameter(\"double\", \"Lmin\", value=1.0)\n",
    "ISIS_SANS2d_Mantid.add_parameter(\"double\", \"Lmax\", value=14.0)\n",
    "ISIS_SANS2d_Mantid.add_parameter(\"double\", \"model_nr\", value=5.0)"
   ]
  },
  {
   "cell_type": "code",
   "execution_count": 5,
   "metadata": {
    "ExecuteTime": {
     "end_time": "2020-08-06T12:47:22.121503Z",
     "start_time": "2020-08-06T12:47:22.117271Z"
    }
   },
   "outputs": [],
   "source": [
    "a1 = ISIS_SANS2d_Mantid.add_component(\"a1\", \"Progress_bar\")\n",
    "a1.set_AT(['0', '0', '0'], RELATIVE=\"ABSOLUTE\")"
   ]
  },
  {
   "cell_type": "code",
   "execution_count": 6,
   "metadata": {
    "ExecuteTime": {
     "end_time": "2020-08-06T12:47:22.867812Z",
     "start_time": "2020-08-06T12:47:22.863697Z"
    }
   },
   "outputs": [],
   "source": [
    "Origin = ISIS_SANS2d_Mantid.add_component(\"Origin\", \"Arm\")\n",
    "Origin.set_AT(['0', '0', '0'], RELATIVE=\"ABSOLUTE\")"
   ]
  },
  {
   "cell_type": "code",
   "execution_count": 7,
   "metadata": {
    "ExecuteTime": {
     "end_time": "2020-08-06T12:47:23.578845Z",
     "start_time": "2020-08-06T12:47:23.571293Z"
    }
   },
   "outputs": [],
   "source": [
    "isis_source = ISIS_SANS2d_Mantid.add_component(\"isis_source\", \"ISIS_moderator\")\n",
    "isis_source.Face = \"\\\"E2\\\"\"\n",
    "isis_source.Emin = \"-Lmax\"\n",
    "isis_source.Emax = \"-Lmin\"\n",
    "isis_source.dist = 3.68\n",
    "isis_source.focus_xw = 0.0365\n",
    "isis_source.focus_yh = 0.021\n",
    "isis_source.xwidth = -1\n",
    "isis_source.yheight = -1\n",
    "isis_source.CAngle = 0.0\n",
    "isis_source.SAC = 1\n",
    "isis_source.set_AT(['0.0', ' 0.0', ' 0.00001'], RELATIVE=\"Origin\")\n",
    "isis_source.set_ROTATED(['0.0', ' 0.0', ' 0.0'], RELATIVE=\"Origin\")"
   ]
  },
  {
   "cell_type": "code",
   "execution_count": 8,
   "metadata": {
    "ExecuteTime": {
     "end_time": "2020-08-06T12:47:24.779744Z",
     "start_time": "2020-08-06T12:47:24.773280Z"
    }
   },
   "outputs": [],
   "source": [
    "lmon1 = ISIS_SANS2d_Mantid.add_component(\"lmon1\", \"L_monitor\")\n",
    "lmon1.nL = 140\n",
    "lmon1.filename = \"\\\"lmon1.dat\\\"\"\n",
    "lmon1.xmin = -0.04\n",
    "lmon1.xmax = 0.04\n",
    "lmon1.ymin = -0.03\n",
    "lmon1.ymax = 0.03\n",
    "lmon1.Lmin = 0.0\n",
    "lmon1.Lmax = 17.0\n",
    "lmon1.set_AT(['0.0', ' 0.0', ' 3.698'], RELATIVE=\"isis_source\")"
   ]
  },
  {
   "cell_type": "code",
   "execution_count": 9,
   "metadata": {
    "ExecuteTime": {
     "end_time": "2020-08-06T12:47:25.431881Z",
     "start_time": "2020-08-06T12:47:25.426237Z"
    }
   },
   "outputs": [],
   "source": [
    "psd1 = ISIS_SANS2d_Mantid.add_component(\"psd1\", \"PSD_monitor\")\n",
    "psd1.nx = 100\n",
    "psd1.ny = 100\n",
    "psd1.filename = \"\\\"psd1.dat\\\"\"\n",
    "psd1.xmin = -0.05\n",
    "psd1.xmax = 0.05\n",
    "psd1.ymin = -0.05\n",
    "psd1.ymax = 0.05\n",
    "psd1.set_AT(['0.0', ' 0.0', ' 3.699'], RELATIVE=\"isis_source\")"
   ]
  },
  {
   "cell_type": "code",
   "execution_count": 10,
   "metadata": {
    "ExecuteTime": {
     "end_time": "2020-08-06T12:47:26.095473Z",
     "start_time": "2020-08-06T12:47:26.068129Z"
    }
   },
   "outputs": [],
   "source": [
    "bender1 = ISIS_SANS2d_Mantid.add_component(\"bender1\", \"Guide_gravity\")\n",
    "bender1.w1 = .0355\n",
    "bender1.h1 = .020\n",
    "bender1.w2 = .0355\n",
    "bender1.h2 = .020\n",
    "bender1.l = 0.3245\n",
    "bender1.nslit = 9\n",
    "bender1.d = .0005\n",
    "bender1.mleft = 1\n",
    "bender1.mright = 3\n",
    "bender1.mtop = 1\n",
    "bender1.mbottom = 1\n",
    "bender1.wavy = 0\n",
    "bender1.set_AT(['0', ' 0', ' 3.7'], RELATIVE=\"isis_source\")\n",
    "bender1.set_ROTATED(['0.0', ' 0.137099', ' 0.0'], RELATIVE=\"isis_source\")\n",
    "\n",
    "bender2 = ISIS_SANS2d_Mantid.add_component(\"bender2\", \"Guide_gravity\")\n",
    "bender2.w1 = .0355\n",
    "bender2.h1 = .020\n",
    "bender2.w2 = .0355\n",
    "bender2.h2 = .020\n",
    "bender2.l = 0.3245\n",
    "bender2.nslit = 9\n",
    "bender2.d = .0005\n",
    "bender2.mleft = 1\n",
    "bender2.mright = 3\n",
    "bender2.mtop = 1\n",
    "bender2.mbottom = 1\n",
    "bender2.wavy = 0\n",
    "bender2.set_AT(['0', ' 0', ' 0.325'], RELATIVE=\"bender1\")\n",
    "bender2.set_ROTATED(['0.0', ' 0.1375099', ' 0.0'], RELATIVE=\"bender1\")\n",
    "\n",
    "bender3 = ISIS_SANS2d_Mantid.add_component(\"bender3\", \"Guide_gravity\")\n",
    "bender3.w1 = .0355\n",
    "bender3.h1 = .020\n",
    "bender3.w2 = .0355\n",
    "bender3.h2 = .020\n",
    "bender3.l = 0.3245\n",
    "bender3.nslit = 9\n",
    "bender3.d = .0005\n",
    "bender3.mleft = 1\n",
    "bender3.mright = 3\n",
    "bender3.mtop = 1\n",
    "bender3.mbottom = 1\n",
    "bender3.wavy = 0\n",
    "bender3.set_AT(['0', ' 0', ' 0.325'], RELATIVE=\"bender2\")\n",
    "bender3.set_ROTATED(['0.0', ' 0.1375099', ' 0.0'], RELATIVE=\"bender2\")\n",
    "\n",
    "bender4 = ISIS_SANS2d_Mantid.add_component(\"bender4\", \"Guide_gravity\")\n",
    "bender4.w1 = .0355\n",
    "bender4.h1 = .020\n",
    "bender4.w2 = .0355\n",
    "bender4.h2 = .020\n",
    "bender4.l = 0.3245\n",
    "bender4.nslit = 9\n",
    "bender4.d = .0005\n",
    "bender4.mleft = 1\n",
    "bender4.mright = 3\n",
    "bender4.mtop = 1\n",
    "bender4.mbottom = 1\n",
    "bender4.wavy = 0\n",
    "bender4.set_AT(['0', ' 0', ' 0.325'], RELATIVE=\"bender3\")\n",
    "bender4.set_ROTATED(['0.0', ' 0.1375099', ' 0.0'], RELATIVE=\"bender3\")\n",
    "\n",
    "bender5 = ISIS_SANS2d_Mantid.add_component(\"bender5\", \"Guide_gravity\")\n",
    "bender5.w1 = .0355\n",
    "bender5.h1 = .020\n",
    "bender5.w2 = .0355\n",
    "bender5.h2 = .020\n",
    "bender5.l = 0.3245\n",
    "bender5.nslit = 9\n",
    "bender5.d = .0005\n",
    "bender5.mleft = 1\n",
    "bender5.mright = 3\n",
    "bender5.mtop = 1\n",
    "bender5.mbottom = 1\n",
    "bender5.wavy = 0\n",
    "bender5.set_AT(['0', ' 0', ' 0.325'], RELATIVE=\"bender4\")\n",
    "bender5.set_ROTATED(['0.0', ' 0.1375099', ' 0.0'], RELATIVE=\"bender4\")\n",
    "\n",
    "bender6 = ISIS_SANS2d_Mantid.add_component(\"bender6\", \"Guide_gravity\")\n",
    "bender6.w1 = .0355\n",
    "bender6.h1 = .020\n",
    "bender6.w2 = .0355\n",
    "bender6.h2 = .020\n",
    "bender6.l = 0.3245\n",
    "bender6.nslit = 9\n",
    "bender6.d = .0005\n",
    "bender6.mleft = 1\n",
    "bender6.mright = 3\n",
    "bender6.mtop = 1\n",
    "bender6.mbottom = 1\n",
    "bender6.wavy = 0\n",
    "bender6.set_AT(['0', ' 0', ' 0.325'], RELATIVE=\"bender5\")\n",
    "bender6.set_ROTATED(['0.0', ' 0.1375099', ' 0.0'], RELATIVE=\"bender5\")\n",
    "\n",
    "bender7 = ISIS_SANS2d_Mantid.add_component(\"bender7\", \"Guide_gravity\")\n",
    "bender7.w1 = .0355\n",
    "bender7.h1 = .020\n",
    "bender7.w2 = .0355\n",
    "bender7.h2 = .020\n",
    "bender7.l = 0.3245\n",
    "bender7.nslit = 9\n",
    "bender7.d = .0005\n",
    "bender7.mleft = 1\n",
    "bender7.mright = 3\n",
    "bender7.mtop = 1\n",
    "bender7.mbottom = 1\n",
    "bender7.wavy = 0\n",
    "bender7.set_AT(['0', ' 0', ' 0.325'], RELATIVE=\"bender6\")\n",
    "bender7.set_ROTATED(['0.0', ' 0.1375099', ' 0.0'], RELATIVE=\"bender6\")\n",
    "\n",
    "bender8 = ISIS_SANS2d_Mantid.add_component(\"bender8\", \"Guide_gravity\")\n",
    "bender8.w1 = .0355\n",
    "bender8.h1 = .020\n",
    "bender8.w2 = .0355\n",
    "bender8.h2 = .020\n",
    "bender8.l = 0.3245\n",
    "bender8.nslit = 9\n",
    "bender8.d = .0005\n",
    "bender8.mleft = 1\n",
    "bender8.mright = 3\n",
    "bender8.mtop = 1\n",
    "bender8.mbottom = 1\n",
    "bender8.wavy = 0\n",
    "bender8.set_AT(['0', ' 0', ' 0.325'], RELATIVE=\"bender7\")\n",
    "bender8.set_ROTATED(['0.0', ' 0.1375099', ' 0.0'], RELATIVE=\"bender7\")\n",
    "\n",
    "bender9 = ISIS_SANS2d_Mantid.add_component(\"bender9\", \"Guide_gravity\")\n",
    "bender9.w1 = .0355\n",
    "bender9.h1 = .020\n",
    "bender9.w2 = .0355\n",
    "bender9.h2 = .020\n",
    "bender9.l = 0.3245\n",
    "bender9.nslit = 9\n",
    "bender9.d = .0005\n",
    "bender9.mleft = 1\n",
    "bender9.mright = 3\n",
    "bender9.mtop = 1\n",
    "bender9.mbottom = 1\n",
    "bender9.wavy = 0\n",
    "bender9.set_AT(['0', ' 0', ' 0.325'], RELATIVE=\"bender8\")\n",
    "bender9.set_ROTATED(['0.0', ' 0.1375099', ' 0.0'], RELATIVE=\"bender8\")\n",
    "\n",
    "bender10 = ISIS_SANS2d_Mantid.add_component(\"bender10\", \"Guide_gravity\")\n",
    "bender10.w1 = .0355\n",
    "bender10.h1 = .020\n",
    "bender10.w2 = .0355\n",
    "bender10.h2 = .020\n",
    "bender10.l = 0.3245\n",
    "bender10.nslit = 9\n",
    "bender10.d = .0005\n",
    "bender10.mleft = 1\n",
    "bender10.mright = 3\n",
    "bender10.mtop = 1\n",
    "bender10.mbottom = 1\n",
    "bender10.wavy = 0\n",
    "bender10.set_AT(['0', ' 0', ' 0.325'], RELATIVE=\"bender9\")\n",
    "bender10.set_ROTATED(['0.0', ' 0.1375099', ' 0.0'], RELATIVE=\"bender9\")"
   ]
  },
  {
   "cell_type": "code",
   "execution_count": 11,
   "metadata": {
    "ExecuteTime": {
     "end_time": "2020-08-06T12:47:26.806056Z",
     "start_time": "2020-08-06T12:47:26.800927Z"
    }
   },
   "outputs": [],
   "source": [
    "lmonb = ISIS_SANS2d_Mantid.add_component(\"lmonb\", \"L_monitor\")\n",
    "lmonb.nL = 140\n",
    "lmonb.filename = \"\\\"lmonB.dat\\\"\"\n",
    "lmonb.xmin = -0.018\n",
    "lmonb.xmax = 0.018\n",
    "lmonb.ymin = -0.018\n",
    "lmonb.ymax = 0.018\n",
    "lmonb.Lmin = 0.0\n",
    "lmonb.Lmax = 17.0\n",
    "lmonb.set_AT(['0.0', ' 0.0', ' 0.326'], RELATIVE=\"bender10\")"
   ]
  },
  {
   "cell_type": "code",
   "execution_count": 12,
   "metadata": {
    "ExecuteTime": {
     "end_time": "2020-08-06T12:47:27.649262Z",
     "start_time": "2020-08-06T12:47:27.644203Z"
    }
   },
   "outputs": [],
   "source": [
    "psd2 = ISIS_SANS2d_Mantid.add_component(\"psd2\", \"PSD_monitor\")\n",
    "psd2.nx = 100\n",
    "psd2.ny = 100\n",
    "psd2.filename = \"\\\"psd2.dat\\\"\"\n",
    "psd2.xmin = -0.025\n",
    "psd2.xmax = 0.025\n",
    "psd2.ymin = -0.025\n",
    "psd2.ymax = 0.025\n",
    "psd2.set_AT(['0.0', ' 0.0', ' 0.001'], RELATIVE=\"lmonb\")"
   ]
  },
  {
   "cell_type": "code",
   "execution_count": 13,
   "metadata": {
    "ExecuteTime": {
     "end_time": "2020-08-06T12:47:28.286819Z",
     "start_time": "2020-08-06T12:47:28.281500Z"
    }
   },
   "outputs": [],
   "source": [
    "guide_in = ISIS_SANS2d_Mantid.add_component(\"guide_in\", \"Slit\")\n",
    "guide_in.xmin = -0.015\n",
    "guide_in.xmax = 0.015\n",
    "guide_in.ymin = -.01\n",
    "guide_in.ymax = +.01\n",
    "guide_in.set_AT(['0', ' 0', ' 0.2845'], RELATIVE=\"psd2\")"
   ]
  },
  {
   "cell_type": "code",
   "execution_count": 14,
   "metadata": {
    "ExecuteTime": {
     "end_time": "2020-08-06T12:47:28.969303Z",
     "start_time": "2020-08-06T12:47:28.958859Z"
    }
   },
   "outputs": [],
   "source": [
    "guide_straight1 = ISIS_SANS2d_Mantid.add_component(\"guide_straight1\", \"Guide_gravity\")\n",
    "guide_straight1.w1 = .030\n",
    "guide_straight1.h1 = .020\n",
    "guide_straight1.w2 = .030\n",
    "guide_straight1.h2 = .020\n",
    "guide_straight1.l = 1.985\n",
    "guide_straight1.mleft = 1\n",
    "guide_straight1.mright = 1\n",
    "guide_straight1.mtop = 1\n",
    "guide_straight1.mbottom = 1\n",
    "guide_straight1.wavy = 0\n",
    "guide_straight1.set_AT(['0', ' 0', ' 0.0075'], RELATIVE=\"guide_in\")\n",
    "\n",
    "guide_straight2 = ISIS_SANS2d_Mantid.add_component(\"guide_straight2\", \"Guide_gravity\")\n",
    "guide_straight2.w1 = .030\n",
    "guide_straight2.h1 = .020\n",
    "guide_straight2.w2 = .030\n",
    "guide_straight2.h2 = .020\n",
    "guide_straight2.l = 1.985\n",
    "guide_straight2.mleft = 1\n",
    "guide_straight2.mright = 1\n",
    "guide_straight2.mtop = 1\n",
    "guide_straight2.mbottom = 1\n",
    "guide_straight2.wavy = 0\n",
    "guide_straight2.set_AT(['0', ' 0', ' 2.000'], RELATIVE=\"guide_straight1\")\n",
    "\n",
    "guide_straight3 = ISIS_SANS2d_Mantid.add_component(\"guide_straight3\", \"Guide_gravity\")\n",
    "guide_straight3.w1 = .030\n",
    "guide_straight3.h1 = .020\n",
    "guide_straight3.w2 = .030\n",
    "guide_straight3.h2 = .020\n",
    "guide_straight3.l = 1.985\n",
    "guide_straight3.mleft = 1\n",
    "guide_straight3.mright = 1\n",
    "guide_straight3.mtop = 1\n",
    "guide_straight3.mbottom = 1\n",
    "guide_straight3.wavy = 0\n",
    "guide_straight3.set_AT(['0', ' 0', ' 2.000'], RELATIVE=\"guide_straight2\")\n",
    "\n",
    "guide_straight4 = ISIS_SANS2d_Mantid.add_component(\"guide_straight4\", \"Guide_gravity\")\n",
    "guide_straight4.w1 = .030\n",
    "guide_straight4.h1 = .020\n",
    "guide_straight4.w2 = .030\n",
    "guide_straight4.h2 = .020\n",
    "guide_straight4.l = 1.985\n",
    "guide_straight4.mleft = 1\n",
    "guide_straight4.mright = 1\n",
    "guide_straight4.mtop = 1\n",
    "guide_straight4.mbottom = 1\n",
    "guide_straight4.wavy = 0\n",
    "guide_straight4.set_AT(['0', ' 0', ' 2.000'], RELATIVE=\"guide_straight3\")"
   ]
  },
  {
   "cell_type": "code",
   "execution_count": 15,
   "metadata": {
    "ExecuteTime": {
     "end_time": "2020-08-06T12:47:29.566664Z",
     "start_time": "2020-08-06T12:47:29.560967Z"
    }
   },
   "outputs": [],
   "source": [
    "psd3 = ISIS_SANS2d_Mantid.add_component(\"psd3\", \"PSD_monitor\")\n",
    "psd3.nx = 100\n",
    "psd3.ny = 100\n",
    "psd3.filename = \"\\\"psd3.dat\\\"\"\n",
    "psd3.xmin = -0.030\n",
    "psd3.xmax = 0.030\n",
    "psd3.ymin = -0.030\n",
    "psd3.ymax = 0.030\n",
    "psd3.set_AT(['0.0', ' 0.0', ' 7.999'], RELATIVE=\"guide_in\")"
   ]
  },
  {
   "cell_type": "code",
   "execution_count": 16,
   "metadata": {
    "ExecuteTime": {
     "end_time": "2020-08-06T12:47:30.121561Z",
     "start_time": "2020-08-06T12:47:30.117197Z"
    }
   },
   "outputs": [],
   "source": [
    "aperture1 = ISIS_SANS2d_Mantid.add_component(\"aperture1\", \"Slit\")\n",
    "aperture1.xwidth = \"A1w\"\n",
    "aperture1.yheight = \"A1h\"\n",
    "aperture1.set_AT(['0', ' 0', ' 8.000'], RELATIVE=\"guide_in\")"
   ]
  },
  {
   "cell_type": "code",
   "execution_count": 17,
   "metadata": {
    "ExecuteTime": {
     "end_time": "2020-08-06T12:47:30.751016Z",
     "start_time": "2020-08-06T12:47:30.745336Z"
    }
   },
   "outputs": [],
   "source": [
    "lmonitor2 = ISIS_SANS2d_Mantid.add_component(\"lmonitor2\", \"L_monitor\")\n",
    "lmonitor2.nL = 140\n",
    "lmonitor2.filename = \"\\\"lmonitor2.dat\\\"\"\n",
    "lmonitor2.xmin = -0.0155\n",
    "lmonitor2.xmax = 0.0155\n",
    "lmonitor2.ymin = -0.0105\n",
    "lmonitor2.ymax = 0.0105\n",
    "lmonitor2.Lmin = 0.0\n",
    "lmonitor2.Lmax = 17.0\n",
    "lmonitor2.set_AT(['0.0', ' 0.0', ' 2.651'], RELATIVE=\"aperture1\")"
   ]
  },
  {
   "cell_type": "code",
   "execution_count": 18,
   "metadata": {
    "ExecuteTime": {
     "end_time": "2020-08-06T12:47:31.334510Z",
     "start_time": "2020-08-06T12:47:31.330325Z"
    }
   },
   "outputs": [],
   "source": [
    "S6 = ISIS_SANS2d_Mantid.add_component(\"S6\", \"Slit\")\n",
    "S6.radius = \"S6\"\n",
    "S6.set_AT(['0', ' 0', ' 2.800'], RELATIVE=\"aperture1\")"
   ]
  },
  {
   "cell_type": "code",
   "execution_count": 19,
   "metadata": {
    "ExecuteTime": {
     "end_time": "2020-08-06T12:47:32.155512Z",
     "start_time": "2020-08-06T12:47:32.151126Z"
    }
   },
   "outputs": [],
   "source": [
    "sourceMantid = ISIS_SANS2d_Mantid.add_component(\"sourceMantid\", \"Arm\")\n",
    "sourceMantid.set_AT(['0', ' 0', ' -18.087'], RELATIVE=\"S6\")"
   ]
  },
  {
   "cell_type": "code",
   "execution_count": 20,
   "metadata": {
    "ExecuteTime": {
     "end_time": "2020-08-06T12:47:32.788428Z",
     "start_time": "2020-08-06T12:47:32.784529Z"
    }
   },
   "outputs": [],
   "source": [
    "APERTURE2 = ISIS_SANS2d_Mantid.add_component(\"APERTURE2\", \"Slit\")\n",
    "APERTURE2.radius = \"A2\"\n",
    "APERTURE2.set_AT(['0', ' 0', ' L1 '], RELATIVE=\"aperture1\")"
   ]
  },
  {
   "cell_type": "code",
   "execution_count": 21,
   "metadata": {
    "ExecuteTime": {
     "end_time": "2020-08-06T12:47:33.471358Z",
     "start_time": "2020-08-06T12:47:33.465739Z"
    }
   },
   "outputs": [],
   "source": [
    "lmon2 = ISIS_SANS2d_Mantid.add_component(\"lmon2\", \"L_monitor\")\n",
    "lmon2.nL = 140\n",
    "lmon2.filename = \"\\\"Edet0.dat\\\"\"\n",
    "lmon2.xmin = -0.0075\n",
    "lmon2.xmax = 0.0075\n",
    "lmon2.ymin = -0.0075\n",
    "lmon2.ymax = 0.0075\n",
    "lmon2.Lmin = 0.0\n",
    "lmon2.Lmax = 17.0\n",
    "lmon2.set_AT(['0.0', ' 0.0', ' 0.285'], RELATIVE=\"APERTURE2\")"
   ]
  },
  {
   "cell_type": "code",
   "execution_count": 22,
   "metadata": {
    "ExecuteTime": {
     "end_time": "2020-08-06T12:47:34.246731Z",
     "start_time": "2020-08-06T12:47:34.240262Z"
    }
   },
   "outputs": [],
   "source": [
    "psd4 = ISIS_SANS2d_Mantid.add_component(\"psd4\", \"PSD_monitor\")\n",
    "psd4.nx = 100\n",
    "psd4.ny = 100\n",
    "psd4.filename = \"\\\"psd4.dat\\\"\"\n",
    "psd4.xmin = -0.0075\n",
    "psd4.xmax = 0.0075\n",
    "psd4.ymin = -0.0075\n",
    "psd4.ymax = 0.0075\n",
    "psd4.set_AT(['0.0', ' 0.0', ' 0.286'], RELATIVE=\"APERTURE2\")\n",
    "\n",
    "psd5 = ISIS_SANS2d_Mantid.add_component(\"psd5\", \"PSD_monitor\")\n",
    "psd5.nx = 100\n",
    "psd5.ny = 100\n",
    "psd5.filename = \"\\\"psd5.dat\\\"\"\n",
    "psd5.xmin = -0.0075\n",
    "psd5.xmax = 0.0075\n",
    "psd5.ymin = -0.0075\n",
    "psd5.ymax = 0.0075\n",
    "psd5.restore_neutron = 1\n",
    "psd5.set_AT(['0.0', ' 0.0', ' 0.18'], RELATIVE=\"psd4\")"
   ]
  },
  {
   "cell_type": "code",
   "execution_count": 23,
   "metadata": {
    "ExecuteTime": {
     "end_time": "2020-08-06T12:47:34.971049Z",
     "start_time": "2020-08-06T12:47:34.964428Z"
    }
   },
   "outputs": [],
   "source": [
    "sampleMantid = ISIS_SANS2d_Mantid.add_component(\"sampleMantid\", \"SANS_benchmark2\")\n",
    "sampleMantid.xwidth = 0.01\n",
    "sampleMantid.yheight = 0.01\n",
    "sampleMantid.zthick = 0.001\n",
    "sampleMantid.model = \"model_nr\"\n",
    "sampleMantid.dsdw_inc = 0.0\n",
    "sampleMantid.sc_aim = 1.0\n",
    "sampleMantid.sans_aim = 1.00\n",
    "sampleMantid.singlesp = 1.0\n",
    "sampleMantid.append_EXTEND(\"if (!SCATTERED) ABSORB;\")\n",
    "sampleMantid.set_SPLIT(\"\")\n",
    "sampleMantid.set_AT(['0', ' 0', ' 0.2'], RELATIVE=\"psd4\")"
   ]
  },
  {
   "cell_type": "code",
   "execution_count": 24,
   "metadata": {
    "ExecuteTime": {
     "end_time": "2020-08-06T12:47:35.623865Z",
     "start_time": "2020-08-06T12:47:35.619074Z"
    }
   },
   "outputs": [],
   "source": [
    "detector = ISIS_SANS2d_Mantid.add_component(\"detector\", \"PSD_monitor\")\n",
    "detector.nx = 200\n",
    "detector.ny = 200\n",
    "detector.filename = \"\\\"PSD.dat\\\"\"\n",
    "detector.xmin = -0.5\n",
    "detector.xmax = 0.5\n",
    "detector.ymin = -0.5\n",
    "detector.ymax = 0.5\n",
    "detector.restore_neutron = 1\n",
    "detector.set_AT(['0', ' 0', ' 3.9'], RELATIVE=\"sampleMantid\")"
   ]
  },
  {
   "cell_type": "code",
   "execution_count": 25,
   "metadata": {
    "ExecuteTime": {
     "end_time": "2020-08-06T12:47:36.262852Z",
     "start_time": "2020-08-06T12:47:36.256916Z"
    }
   },
   "outputs": [],
   "source": [
    "nD_Mantid_1 = ISIS_SANS2d_Mantid.add_component(\"nD_Mantid_1\", \"Monitor_nD\")\n",
    "nD_Mantid_1.xmin = -0.5\n",
    "nD_Mantid_1.xmax = 0.5\n",
    "nD_Mantid_1.ymin = -0.5\n",
    "nD_Mantid_1.ymax = 0.5\n",
    "nD_Mantid_1.restore_neutron = 1\n",
    "nD_Mantid_1.options = \"\\\"mantid square x limits=[-0.5 0.5] bins=128 y limits=[-0.5 0.5] bins=128,, neutron pixel t,, list all neutrons\\\"\"\n",
    "nD_Mantid_1.filename = \"\\\"bank01_events.dat\\\"\"\n",
    "nD_Mantid_1.set_AT(['0', ' 0', ' 3.9'], RELATIVE=\"sampleMantid\")"
   ]
  },
  {
   "cell_type": "code",
   "execution_count": 26,
   "metadata": {
    "ExecuteTime": {
     "end_time": "2020-08-06T12:47:37.561562Z",
     "start_time": "2020-08-06T12:47:37.556170Z"
    }
   },
   "outputs": [],
   "source": [
    "lmon_post = ISIS_SANS2d_Mantid.add_component(\"lmon_post\", \"L_monitor\")\n",
    "lmon_post.nL = 140\n",
    "lmon_post.filename = \"\\\"lmonitor_post.dat\\\"\"\n",
    "lmon_post.xmin = -0.5\n",
    "lmon_post.xmax = 0.5\n",
    "lmon_post.ymin = -0.5\n",
    "lmon_post.ymax = 0.5\n",
    "lmon_post.Lmin = 0.0\n",
    "lmon_post.Lmax = 17.0\n",
    "lmon_post.restore_neutron = 1\n",
    "lmon_post.set_AT(['0.0', ' 0.0', ' 3.9'], RELATIVE=\"sampleMantid\")"
   ]
  },
  {
   "cell_type": "markdown",
   "metadata": {},
   "source": [
    "# McStas Simulation"
   ]
  },
  {
   "cell_type": "markdown",
   "metadata": {},
   "source": [
    "## Run McStas"
   ]
  },
  {
   "cell_type": "code",
   "execution_count": 27,
   "metadata": {
    "ExecuteTime": {
     "end_time": "2020-08-06T12:47:50.400230Z",
     "start_time": "2020-08-06T12:47:40.029277Z"
    }
   },
   "outputs": [
    {
     "name": "stdout",
     "output_type": "stream",
     "text": [
      "INFO: Using directory: \"/home/docker/data_1E5_nr15\"\n",
      "INFO: Regenerating c-file: ISIS_SANS2d_Mantid_generated.c\n",
      "Info:    'ISIS_moderator' is a contributed component.\n",
      "Info:    'SANS_benchmark2' is a contributed component.\n",
      "Warning: Component isis_source=ISIS_moderator(string Face) definition parameter\n",
      "         may be changed into a setting parameter to avoid\n",
      "         warnings at compile time.\n",
      "Info:    Defining SPLIT from sampleMantid=SANS_benchmark2() to END in instrument ISIS_SANS2d_Mantid_generated\n",
      "CFLAGS=\n",
      "INFO: Recompiling: ./ISIS_SANS2d_Mantid_generated.out\n",
      "/usr/share/mcstas/2.6.1/tools/Python/mcrun/../mccodelib/../../../monitors/Monitor_nD.comp: In function ‘off_init’:\n",
      "/usr/share/mcstas/2.6.1/tools/Python/mcrun/../mccodelib/../../../monitors/Monitor_nD.comp:2820:7: warning: ignoring return value of ‘fgets’, declared with attribute warn_unused_result [-Wunused-result]\n",
      "/usr/share/mcstas/2.6.1/tools/Python/mcrun/../mccodelib/../../../monitors/Monitor_nD.comp:2907:7: warning: ignoring return value of ‘fgets’, declared with attribute warn_unused_result [-Wunused-result]\n",
      "/usr/share/mcstas/2.6.1/tools/Python/mcrun/../mccodelib/../../../monitors/Monitor_nD.comp:2923:7: warning: ignoring return value of ‘fscanf’, declared with attribute warn_unused_result [-Wunused-result]\n",
      "mccode-r.c: In function ‘mcdetector_import’:\n",
      "mccode-r.c:768:51: warning: ‘ ’ directive output may be truncated writing 1 byte into a region of size between 0 and 1023 [-Wformat-truncation=]\n",
      "In file included from /usr/include/stdio.h:862:0,\n",
      "                 from mccode-r.h:43:\n",
      "/usr/include/x86_64-linux-gnu/bits/stdio2.h:64:10: note: ‘__builtin___snprintf_chk’ output 9 or more bytes (assuming 1032) into a destination of size 1024\n",
      "   return __builtin___snprintf_chk (__s, __n, __USE_FORTIFY_LEVEL - 1,\n",
      "          ^~~~~~~~~~~~~~~~~~~~~~~~~~~~~~~~~~~~~~~~~~~~~~~~~~~~~~~~~~~~\n",
      "        __bos (__s), __fmt, __va_arg_pack ());\n",
      "        ~~~~~~~~~~~~~~~~~~~~~~~~~~~~~~~~~~~~~\n",
      "/usr/share/mcstas/2.6.1/tools/Python/mcrun/../mccodelib/../../../monitors/Monitor_nD.comp: In function ‘Monitor_nD_Init’:\n",
      "/usr/share/mcstas/2.6.1/tools/Python/mcrun/../mccodelib/../../../monitors/Monitor_nD.comp:638:29: warning: ‘%li’ directive writing between 1 and 20 bytes into a region of size between 0 and 127 [-Wformat-overflow=]\n",
      "In file included from /usr/include/stdio.h:862:0,\n",
      "                 from mccode-r.h:43:\n",
      "/usr/include/x86_64-linux-gnu/bits/stdio2.h:33:10: note: ‘__builtin___sprintf_chk’ output between 3 and 149 bytes into a destination of size 128\n",
      "   return __builtin___sprintf_chk (__s, __USE_FORTIFY_LEVEL - 1,\n",
      "          ^~~~~~~~~~~~~~~~~~~~~~~~~~~~~~~~~~~~~~~~~~~~~~~~~~~~~~\n",
      "       __bos (__s), __fmt, __va_arg_pack ());\n",
      "       ~~~~~~~~~~~~~~~~~~~~~~~~~~~~~~~~~~~~~\n",
      "INFO: ===\n",
      "**********************************************************************\n",
      "****   This is ISIS_moderator.comp version 2.0 (25/8/05)          ****\n",
      "****   Please check to see if your files are up-to-date           ****\n",
      "****   http://www.isis.rl.ac.uk/Computing/Software/MC/index.htm   ****\n",
      "**********************************************************************\n",
      "\n",
      "converting Angstroms to meV\n",
      "Face == E2 \n",
      "default xwidth used 0.08333 m\n",
      "default yheight used 0.03 m\n",
      "Energy == 0.417316 81.7939\n",
      "nEnergy == 77\n",
      "Viewport == 0.0365 0.021 Moderator size == (0.08333 * 0.03) m^2 \n",
      "Dist == 3.68 (metres) \n",
      "Viewport Solid angle == 0.000184587 str\n",
      "Solid angle used == 0.00141486 str\n",
      "Totals:: 0.000811618 77 181 \n",
      "Warning: 216 events were removed in Component[33] detector=PSD_monitor()\n",
      "         (negative time, miss next components, rounding errors, Nan, Inf).\n",
      "INFO: Placing instr file copy ISIS_SANS2d_Mantid_generated.instr in dataset /home/docker/data_1E5_nr15\n",
      "\n",
      "      [ISIS_SANS2d_Mantid_generated] Initialize\n",
      "Opening -- /usr/share/mcstas/2.6.1/tools/Python/mcrun/../mccodelib/../../../contrib/ISIS_tables/TS2.e2\n",
      "\n",
      "Save [ISIS_SANS2d_Mantid_generated]\n",
      "Detector: lmon1_I=3.40574e+08 lmon1_ERR=1.07699e+06 lmon1_N=100000 \"lmon1.dat\"\n",
      "Detector: psd1_I=3.40574e+08 psd1_ERR=1.07699e+06 psd1_N=100000 \"psd1.dat\"\n",
      "Detector: lmonb_I=1.47755e+08 lmonb_ERR=687976 lmonb_N=70179 \"lmonB.dat\"\n",
      "Detector: psd2_I=1.47755e+08 psd2_ERR=687976 psd2_N=70179 \"psd2.dat\"\n",
      "Detector: psd3_I=1.01805e+08 psd3_ERR=572025 psd3_N=54449 \"psd3.dat\"\n",
      "Detector: lmonitor2_I=5.01022e+07 lmonitor2_ERR=402164 lmonitor2_N=20743 \"lmonitor2.dat\"\n",
      "Detector: lmon2_I=5.67673e+06 lmon2_ERR=135682 lmon2_N=1961 \"Edet0.dat\"\n",
      "Detector: psd4_I=5.67673e+06 psd4_ERR=135682 psd4_N=1961 \"psd4.dat\"\n",
      "Detector: psd5_I=5.59357e+06 psd5_ERR=134684 psd5_N=1931 \"psd5.dat\"\n",
      "Detector: detector_I=6973.21 detector_ERR=194.822 detector_N=10365 \"PSD.dat\"\n",
      "Events:   \"bank01_events_dat_list.p.x.y.n.id.t\"\n",
      "Detector: lmon_post_I=6973.21 lmon_post_ERR=194.822 lmon_post_N=10365 \"lmonitor_post.dat\"\n",
      "\n",
      "Finally [ISIS_SANS2d_Mantid_generated: /home/docker/data_1E5_nr15]. Time: 1 [s] \n",
      "\n"
     ]
    }
   ],
   "source": [
    "data = ISIS_SANS2d_Mantid.run_full_instrument(foldername=\"data_1E5_nr15\", parameters={\"model_nr\":15}, ncount=1E5)"
   ]
  },
  {
   "cell_type": "code",
   "execution_count": 28,
   "metadata": {
    "ExecuteTime": {
     "end_time": "2020-08-06T12:48:04.180067Z",
     "start_time": "2020-08-06T12:47:59.858394Z"
    }
   },
   "outputs": [
    {
     "name": "stdout",
     "output_type": "stream",
     "text": [
      "number of elements in data list = 12\n",
      "Plotting data with name lmon1\n",
      "Plotting data with name psd1\n",
      "Plotting data with name lmonb\n",
      "Plotting data with name psd2\n",
      "Plotting data with name psd3\n",
      "Plotting data with name lmonitor2\n",
      "Plotting data with name lmon2\n",
      "Plotting data with name psd4\n",
      "Plotting data with name psd5\n",
      "Plotting data with name detector\n",
      "Plotting data with name nD_Mantid_1\n",
      "Plotting data with name lmon_post\n"
     ]
    },
    {
     "data": {
      "image/png": "[encoded data removed]",
      "text/plain": [
       "<Figure size 936x504 with 19 Axes>"
      ]
     },
     "metadata": {
      "needs_background": "light"
     },
     "output_type": "display_data"
    }
   ],
   "source": [
    "plot = plotter.make_sub_plot(data)"
   ]
  },
  {
   "cell_type": "markdown",
   "metadata": {},
   "source": [
    "## McStas IDF for Mantid"
   ]
  },
  {
   "cell_type": "code",
   "execution_count": 29,
   "metadata": {
    "ExecuteTime": {
     "end_time": "2020-08-06T12:48:07.939016Z",
     "start_time": "2020-08-06T12:48:07.935595Z"
    }
   },
   "outputs": [],
   "source": [
    "import subprocess"
   ]
  },
  {
   "cell_type": "code",
   "execution_count": 30,
   "metadata": {
    "ExecuteTime": {
     "end_time": "2020-08-06T12:48:09.066779Z",
     "start_time": "2020-08-06T12:48:09.063417Z"
    }
   },
   "outputs": [],
   "source": [
    "cmd_idf = \"mcdisplay.pl ISIS_SANS2d_Mantid_generated.instr --format=Mantid -n0 model_nr=5\""
   ]
  },
  {
   "cell_type": "code",
   "execution_count": 31,
   "metadata": {
    "ExecuteTime": {
     "end_time": "2020-08-06T12:48:10.517851Z",
     "start_time": "2020-08-06T12:48:10.185686Z"
    }
   },
   "outputs": [
    {
     "data": {
      "text/plain": [
       "0"
      ]
     },
     "execution_count": 31,
     "metadata": {},
     "output_type": "execute_result"
    }
   ],
   "source": [
    "subprocess.call([cmd_idf], shell=True)"
   ]
  },
  {
   "cell_type": "markdown",
   "metadata": {},
   "source": [
    "## Run McStas with NeXus - CLI"
   ]
  },
  {
   "cell_type": "code",
   "execution_count": 32,
   "metadata": {
    "ExecuteTime": {
     "end_time": "2020-08-06T12:48:13.046294Z",
     "start_time": "2020-08-06T12:48:13.042744Z"
    }
   },
   "outputs": [],
   "source": [
    "cmd_nexus = \"mcstas ISIS_SANS2d_Mantid_generated.instr --trace; gcc -o ISIS_SANS2d_Mantid_generated.out ISIS_SANS2d_Mantid_generated.c -lm -DUSE_NEXUS -lNeXus -I/usr/include/nexus; ./ISIS_SANS2d_Mantid_generated.out --format=NeXus -d 1E6 --ncount=1E6 model_nr=5\" "
   ]
  },
  {
   "cell_type": "code",
   "execution_count": 33,
   "metadata": {
    "ExecuteTime": {
     "end_time": "2020-08-06T12:48:21.747069Z",
     "start_time": "2020-08-06T12:48:13.972830Z"
    }
   },
   "outputs": [
    {
     "data": {
      "text/plain": [
       "0"
      ]
     },
     "execution_count": 33,
     "metadata": {},
     "output_type": "execute_result"
    }
   ],
   "source": [
    "subprocess.call([cmd_nexus], shell=True)"
   ]
  },
  {
   "cell_type": "code",
   "execution_count": 34,
   "metadata": {
    "ExecuteTime": {
     "end_time": "2020-08-06T12:48:22.898285Z",
     "start_time": "2020-08-06T12:48:22.894441Z"
    }
   },
   "outputs": [],
   "source": [
    "data_nexus = '1E6/mccode.h5'"
   ]
  },
  {
   "cell_type": "markdown",
   "metadata": {},
   "source": [
    "## Run McStas with NeXus "
   ]
  },
  {
   "cell_type": "code",
   "execution_count": null,
   "metadata": {},
   "outputs": [],
   "source": [
    "data_nexus = ISIS_SANS2d_Mantid.run_full_instrument(foldername=\"data_1E7_nexus_nr15\", parameters={\"model_nr\":15}, ncount=1E7, custom_flags=\" -c --format=NeXus \")"
   ]
  },
  {
   "cell_type": "code",
   "execution_count": null,
   "metadata": {
    "ExecuteTime": {
     "end_time": "2020-08-06T09:42:23.509290Z",
     "start_time": "2020-08-06T09:42:23.504225Z"
    }
   },
   "outputs": [],
   "source": [
    "print(data_nexus)"
   ]
  },
  {
   "cell_type": "markdown",
   "metadata": {},
   "source": [
    "# Mantid"
   ]
  },
  {
   "cell_type": "markdown",
   "metadata": {},
   "source": [
    "## Setup Mantid"
   ]
  },
  {
   "cell_type": "code",
   "execution_count": 35,
   "metadata": {
    "ExecuteTime": {
     "end_time": "2020-08-06T12:48:31.409202Z",
     "start_time": "2020-08-06T12:48:29.381860Z"
    }
   },
   "outputs": [],
   "source": [
    "from mantid.simpleapi import *"
   ]
  },
  {
   "cell_type": "markdown",
   "metadata": {},
   "source": [
    "## Load event data"
   ]
  },
  {
   "cell_type": "code",
   "execution_count": 36,
   "metadata": {
    "ExecuteTime": {
     "end_time": "2020-08-06T12:48:33.566474Z",
     "start_time": "2020-08-06T12:48:32.354179Z"
    }
   },
   "outputs": [],
   "source": [
    "# Load McStas event data from section 1\n",
    "ws = Load(data_nexus)"
   ]
  },
  {
   "cell_type": "markdown",
   "metadata": {},
   "source": [
    "## Rebin TOF"
   ]
  },
  {
   "cell_type": "code",
   "execution_count": 37,
   "metadata": {
    "ExecuteTime": {
     "end_time": "2020-08-06T12:48:34.756989Z",
     "start_time": "2020-08-06T12:48:34.469146Z"
    }
   },
   "outputs": [],
   "source": [
    "sample = Rebin(ws[0],'1000', False)"
   ]
  },
  {
   "cell_type": "markdown",
   "metadata": {},
   "source": [
    "## Convert to lambda"
   ]
  },
  {
   "cell_type": "code",
   "execution_count": 38,
   "metadata": {
    "ExecuteTime": {
     "end_time": "2020-08-06T12:48:35.894913Z",
     "start_time": "2020-08-06T12:48:35.870670Z"
    }
   },
   "outputs": [],
   "source": [
    "sample = ConvertUnits(sample, 'Wavelength')"
   ]
  },
  {
   "cell_type": "markdown",
   "metadata": {},
   "source": [
    "## Rebin lamba"
   ]
  },
  {
   "cell_type": "code",
   "execution_count": 39,
   "metadata": {
    "ExecuteTime": {
     "end_time": "2020-08-06T12:48:37.787029Z",
     "start_time": "2020-08-06T12:48:37.312475Z"
    }
   },
   "outputs": [],
   "source": [
    "binning = '1.75,0.1,16.5'\n",
    "sample = Rebin(sample, binning)"
   ]
  },
  {
   "cell_type": "markdown",
   "metadata": {},
   "source": [
    "## Load McStas normalization spectrum"
   ]
  },
  {
   "cell_type": "code",
   "execution_count": 40,
   "metadata": {
    "ExecuteTime": {
     "end_time": "2020-08-06T12:48:39.047469Z",
     "start_time": "2020-08-06T12:48:39.027132Z"
    }
   },
   "outputs": [],
   "source": [
    "mcstasMonitor = CloneWorkspace(mtd['Edet0.dat_ws'])"
   ]
  },
  {
   "cell_type": "markdown",
   "metadata": {},
   "source": [
    "## Convert McStas data to Mantid histogram"
   ]
  },
  {
   "cell_type": "code",
   "execution_count": 41,
   "metadata": {
    "ExecuteTime": {
     "end_time": "2020-08-06T12:48:40.381042Z",
     "start_time": "2020-08-06T12:48:40.339127Z"
    }
   },
   "outputs": [],
   "source": [
    "mcstasMonitor = ConvertToHistogram(mcstasMonitor)\n",
    "mcstasMonitor = rebin(mcstasMonitor, binning)\n",
    "monitor     = CreateWorkspace(mcstasMonitor.dataX(0), mcstasMonitor.dataY(0), mcstasMonitor.dataE(0), UnitX='Wavelength')"
   ]
  },
  {
   "cell_type": "markdown",
   "metadata": {},
   "source": [
    "##  Setup q grid"
   ]
  },
  {
   "cell_type": "code",
   "execution_count": 42,
   "metadata": {
    "ExecuteTime": {
     "end_time": "2020-08-06T12:48:41.807053Z",
     "start_time": "2020-08-06T12:48:41.803817Z"
    }
   },
   "outputs": [],
   "source": [
    "binningMASK\t= '0.0035,0.001,0.4'"
   ]
  },
  {
   "cell_type": "markdown",
   "metadata": {},
   "source": [
    "## Reduce to I(q) and normailzed"
   ]
  },
  {
   "cell_type": "code",
   "execution_count": 43,
   "metadata": {
    "ExecuteTime": {
     "end_time": "2020-08-06T12:48:43.670016Z",
     "start_time": "2020-08-06T12:48:43.336580Z"
    }
   },
   "outputs": [],
   "source": [
    "reduced_norm = Q1D(sample, binningMASK, WavelengthAdj='monitor')"
   ]
  },
  {
   "cell_type": "markdown",
   "metadata": {},
   "source": [
    "## Save file"
   ]
  },
  {
   "cell_type": "code",
   "execution_count": 44,
   "metadata": {
    "ExecuteTime": {
     "end_time": "2020-08-06T12:48:44.935547Z",
     "start_time": "2020-08-06T12:48:44.929152Z"
    }
   },
   "outputs": [],
   "source": [
    "SaveAscii(InputWorkspace='reduced_norm', Filename='Mantid_reduced.dat', Separator='Tab', ScientificFormat=True)"
   ]
  },
  {
   "cell_type": "markdown",
   "metadata": {},
   "source": [
    "## Plot I(q)"
   ]
  },
  {
   "cell_type": "code",
   "execution_count": 45,
   "metadata": {
    "ExecuteTime": {
     "end_time": "2020-08-06T12:48:46.467104Z",
     "start_time": "2020-08-06T12:48:46.463372Z"
    }
   },
   "outputs": [],
   "source": [
    "#%matplotlib notebook\n",
    "import matplotlib.pyplot as plt\n",
    "import numpy as np"
   ]
  },
  {
   "cell_type": "code",
   "execution_count": 46,
   "metadata": {
    "ExecuteTime": {
     "end_time": "2020-08-06T12:48:48.690594Z",
     "start_time": "2020-08-06T12:48:48.684383Z"
    }
   },
   "outputs": [],
   "source": [
    "# Remove zero and inf\n",
    "data_q = np.column_stack((reduced_norm.readX(0)[:-1], reduced_norm.readY(0)))\n",
    "data_q = data_q[np.logical_not(np.isnan(data_q[:, 1]))]\n",
    "data_q = data_q[np.logical_not(np.isinf(data_q[:, 1]))]\n",
    "data_q = data_q[data_q[:, 1] != 0]"
   ]
  },
  {
   "cell_type": "code",
   "execution_count": 47,
   "metadata": {
    "ExecuteTime": {
     "end_time": "2020-08-06T12:48:50.102538Z",
     "start_time": "2020-08-06T12:48:49.677748Z"
    }
   },
   "outputs": [
    {
     "data": {
      "text/plain": [
       "Text(0, 0.5, 'I(q) [a.u.]')"
      ]
     },
     "execution_count": 47,
     "metadata": {},
     "output_type": "execute_result"
    },
    {
     "data": {
      "image/png": "[encoded data removed]",
      "text/plain": [
       "<Figure size 432x288 with 1 Axes>"
      ]
     },
     "metadata": {
      "needs_background": "light"
     },
     "output_type": "display_data"
    }
   ],
   "source": [
    "plt.plot(data_q[:,0], data_q[:,1], 'k-', lw=2)\n",
    "plt.yscale('log')\n",
    "plt.xlabel('q [ 1/Å ]')\n",
    "plt.ylabel('I(q) [a.u.]')"
   ]
  },
  {
   "cell_type": "code",
   "execution_count": 48,
   "metadata": {
    "ExecuteTime": {
     "end_time": "2020-08-06T12:48:52.094837Z",
     "start_time": "2020-08-06T12:48:52.087879Z"
    }
   },
   "outputs": [],
   "source": [
    "# Save data for SasView\n",
    "np.savetxt(\"Iq_cleaned.dat\", data_q, header=\"<X>   <Y>\", comments='')"
   ]
  },
  {
   "cell_type": "code",
   "execution_count": 49,
   "metadata": {
    "ExecuteTime": {
     "end_time": "2020-08-06T12:48:53.101929Z",
     "start_time": "2020-08-06T12:48:53.094357Z"
    }
   },
   "outputs": [],
   "source": [
    "# Save data for SasView with errors\n",
    "data_q_err = np.column_stack((data_q[:,0], data_q[:,1], 0.2*data_q[:,1]))\n",
    "np.savetxt(\"Iq_cleaned_err.dat\", data_q_err, header=\"<X>   <Y>   <dY>\", comments='')"
   ]
  },
  {
   "cell_type": "code",
   "execution_count": 50,
   "metadata": {
    "ExecuteTime": {
     "end_time": "2020-08-06T12:48:53.910131Z",
     "start_time": "2020-08-06T12:48:53.906439Z"
    }
   },
   "outputs": [],
   "source": [
    "Iq_file = \"Iq_cleaned_err.dat\""
   ]
  },
  {
   "cell_type": "markdown",
   "metadata": {},
   "source": [
    "# SasView"
   ]
  },
  {
   "cell_type": "markdown",
   "metadata": {},
   "source": [
    "## Setup Sasmodles and SasView"
   ]
  },
  {
   "cell_type": "code",
   "execution_count": 51,
   "metadata": {
    "ExecuteTime": {
     "end_time": "2020-08-06T12:48:56.441045Z",
     "start_time": "2020-08-06T12:48:56.399312Z"
    }
   },
   "outputs": [],
   "source": [
    "from sasmodels.core import load_model\n",
    "from sasmodels.bumps_model import Model, Experiment\n",
    "from sasmodels.data import load_data\n",
    "\n",
    "from bumps.names import *\n",
    "from bumps.fitters import fit\n",
    "from bumps.formatnum import format_uncertainty\n",
    "from bumps.formatnum import *\n",
    "from bumps.dream.stats import var_stats, format_vars"
   ]
  },
  {
   "cell_type": "markdown",
   "metadata": {},
   "source": [
    "## Setup fit function"
   ]
  },
  {
   "cell_type": "markdown",
   "metadata": {},
   "source": [
    "### Without polydispersion"
   ]
  },
  {
   "cell_type": "code",
   "execution_count": 52,
   "metadata": {
    "ExecuteTime": {
     "end_time": "2020-08-06T12:48:58.784925Z",
     "start_time": "2020-08-06T12:48:58.777554Z"
    }
   },
   "outputs": [],
   "source": [
    "def fit_data(filename, fit_method, bumps_samples, bumps_burn):\n",
    "    \"\"\"\n",
    "    Run SasView SasModels fit\n",
    "    :return:\n",
    "    \"\"\"\n",
    "\n",
    "    # Load data to fit\n",
    "    test_data = load_data(filename)\n",
    "\n",
    "    # Set up fit model\n",
    "    kernel = load_model('sphere')\n",
    "\n",
    "    pars = dict(radius=150,\n",
    "                background=0.0,\n",
    "                scale=1E-6,\n",
    "                sld=7.0,\n",
    "                sld_solvent=1.0)\n",
    "    model = Model(kernel, **pars)\n",
    "\n",
    "    # SET THE FITTING PARAMETERS\n",
    "    model.radius.range(10, 200)\n",
    "    model.scale.range(1E-7, 1E0)\n",
    "    model.background.range(0, 1000)\n",
    "\n",
    "    M = Experiment(data=test_data, model=model)\n",
    "    problem = FitProblem(M)\n",
    "    print(\"Initial chisq\", problem.chisq_str())\n",
    "\n",
    "    result = fit(problem, method=fit_method, samples=bumps_samples, burn=bumps_burn)\n",
    "\n",
    "    draw = result.state.draw(portion=1.0)\n",
    "    all_vstats = var_stats(draw)\n",
    "\n",
    "    return all_vstats\n",
    "\n",
    "\n"
   ]
  },
  {
   "cell_type": "markdown",
   "metadata": {},
   "source": [
    "### With polydispersion"
   ]
  },
  {
   "cell_type": "code",
   "execution_count": 53,
   "metadata": {
    "ExecuteTime": {
     "end_time": "2020-08-06T12:49:00.170156Z",
     "start_time": "2020-08-06T12:49:00.163287Z"
    }
   },
   "outputs": [],
   "source": [
    "def fit_data_pd(filename, fit_method, bumps_samples, bumps_burn):\n",
    "    \"\"\"\n",
    "    Run SasView SasModels fit\n",
    "    :return:\n",
    "    \"\"\"\n",
    "\n",
    "    # Load data to fit\n",
    "    test_data = load_data(filename)\n",
    "\n",
    "    # Set up fit model\n",
    "    kernel = load_model('sphere')\n",
    "\n",
    "    pars = dict(radius=150,\n",
    "                background=0.0,\n",
    "                scale=1E-6,\n",
    "                sld=7.0,\n",
    "                sld_solvent=1.0,\n",
    "                radius_pd=0.03,\n",
    "                radius_pd_n=35,\n",
    "                radius_pd_nsigma=3)\n",
    "    model = Model(kernel, **pars)\n",
    "\n",
    "    # SET THE FITTING PARAMETERS\n",
    "    model.radius.range(10, 200)\n",
    "    model.scale.range(1E-7, 1E1)\n",
    "    model.background.range(0, 100)\n",
    "    model.radius_pd.range(0.0, 0.1)\n",
    "\n",
    "    M = Experiment(data=test_data, model=model)\n",
    "    problem = FitProblem(M)\n",
    "    print(\"Initial chisq\", problem.chisq_str())\n",
    "\n",
    "    result = fit(problem, method=fit_method, samples=bumps_samples, burn=bumps_burn)\n",
    "\n",
    "    draw = result.state.draw(portion=1.0)\n",
    "    all_vstats = var_stats(draw)\n",
    "\n",
    "    return all_vstats\n",
    "\n"
   ]
  },
  {
   "cell_type": "markdown",
   "metadata": {},
   "source": [
    "## Setup print all results function"
   ]
  },
  {
   "cell_type": "code",
   "execution_count": 54,
   "metadata": {
    "ExecuteTime": {
     "end_time": "2020-08-06T12:49:01.377113Z",
     "start_time": "2020-08-06T12:49:01.373120Z"
    }
   },
   "outputs": [],
   "source": [
    "def print_all_results(bumps_fit_result):\n",
    "    \"\"\"\n",
    "    Print parameters for fit\n",
    "    :param bumps_fit_result:\n",
    "    :return:\n",
    "    \"\"\"\n",
    "    for v in bumps_fit_result:\n",
    "        print(v.label, v.mean, v.median, v.best, v.p68[0], v.p68[1], v.p95[0], v.p95[1])\n",
    "        \n",
    "    "
   ]
  },
  {
   "cell_type": "markdown",
   "metadata": {},
   "source": [
    "## Setup print parameter result function"
   ]
  },
  {
   "cell_type": "code",
   "execution_count": 55,
   "metadata": {
    "ExecuteTime": {
     "end_time": "2020-08-06T12:49:02.675198Z",
     "start_time": "2020-08-06T12:49:02.669666Z"
    }
   },
   "outputs": [],
   "source": [
    "def print_results(bumps_fit_result, parmeter_to_print, conf_interval):\n",
    "    \"\"\"\n",
    "    SasModels \"true\" parmeter can be [v.mean, v.median, v.best]\n",
    "    :param bumps_fit_result:\n",
    "    :param parmeter_to_print:\n",
    "    :param conf_interval:\n",
    "    :return:\n",
    "    \"\"\"\n",
    "\n",
    "    for v in bumps_fit_result:\n",
    "        if v.label == parmeter_to_print:\n",
    "            if conf_interval:\n",
    "                print(parmeter_to_print + ': ' + str(v.best) + ',' + str(0.5*(v.p95[1]-v.p95[0])) + '\\n')\n",
    "            else:\n",
    "                print(parmeter_to_print + ': ' + v.best + ',' + 0.5*(v.p68[1]-v.p68[0]) + '\\n')\n",
    "     \n",
    "\n",
    "    "
   ]
  },
  {
   "cell_type": "markdown",
   "metadata": {},
   "source": [
    "## Fit data"
   ]
  },
  {
   "cell_type": "code",
   "execution_count": 56,
   "metadata": {
    "ExecuteTime": {
     "end_time": "2020-08-06T12:49:08.962128Z",
     "start_time": "2020-08-06T12:49:03.849483Z"
    }
   },
   "outputs": [
    {
     "name": "stderr",
     "output_type": "stream",
     "text": [
      "SasView cannot load Iq_cleaned_err.dat.\n",
      "Invalid XML syntax\n",
      "NXcanSAS Reader could not load file Iq_cleaned_err.dat.dat\n"
     ]
    },
    {
     "name": "stdout",
     "output_type": "stream",
     "text": [
      "Initial chisq 24.9561(90)\n",
      "# steps: 334, # draws: 10020\n"
     ]
    }
   ],
   "source": [
    "# Fit data from just made McStas-Mantid workflow. With polydisersion.\n",
    "fit_result = fit_data('Iq_cleaned_err.dat', 'dream', 10000, 100)"
   ]
  },
  {
   "cell_type": "code",
   "execution_count": 57,
   "metadata": {
    "ExecuteTime": {
     "end_time": "2020-08-06T12:49:23.098103Z",
     "start_time": "2020-08-06T12:49:11.000584Z"
    }
   },
   "outputs": [
    {
     "name": "stderr",
     "output_type": "stream",
     "text": [
      "WARNING:sas.sascalc.dataloader.file_reader_base_class:SasView cannot load Iq_cleaned_err.dat.\n",
      "Invalid XML syntax\n",
      "WARNING:sas.sascalc.dataloader.file_reader_base_class:NXcanSAS Reader could not load file Iq_cleaned_err.dat.dat\n"
     ]
    },
    {
     "name": "stdout",
     "output_type": "stream",
     "text": [
      "Initial chisq 25.039(12)\n",
      "# steps: 250, # draws: 10000\n"
     ]
    }
   ],
   "source": [
    "# Fit data from just made McStas-Mantid workflow. With polydisersion.\n",
    "fit_result_pd = fit_data_pd('Iq_cleaned_err.dat', 'dream', 10000, 100)"
   ]
  },
  {
   "cell_type": "markdown",
   "metadata": {},
   "source": [
    "## Print results"
   ]
  },
  {
   "cell_type": "code",
   "execution_count": 58,
   "metadata": {
    "ExecuteTime": {
     "end_time": "2020-08-06T12:49:24.277111Z",
     "start_time": "2020-08-06T12:49:24.270746Z"
    }
   },
   "outputs": [
    {
     "name": "stdout",
     "output_type": "stream",
     "text": [
      "radius: 25.189527249522843,17.56111239573818\n",
      "\n",
      "scale: 5.8330744979889944e-05,3.150703473668461e-05\n",
      "\n",
      "background: 1.8103615749571972e-06,2.4257510823484612e-06\n",
      "\n"
     ]
    }
   ],
   "source": [
    "print_results(fit_result, 'radius', True)\n",
    "print_results(fit_result, 'scale', True)\n",
    "print_results(fit_result, 'background', True)"
   ]
  },
  {
   "cell_type": "code",
   "execution_count": 59,
   "metadata": {
    "ExecuteTime": {
     "end_time": "2020-08-06T12:49:25.185813Z",
     "start_time": "2020-08-06T12:49:25.177673Z"
    }
   },
   "outputs": [
    {
     "name": "stdout",
     "output_type": "stream",
     "text": [
      "radius: 25.13846558078455,58.82281826765853\n",
      "\n",
      "scale: 6.040581064348343e-05,3.2915178508641055e-05\n",
      "\n",
      "background: 5.1159956262381414e-08,2.9122713906151325e-06\n",
      "\n",
      "radius_pd: 0.03485419161075497,0.04748396294880013\n",
      "\n"
     ]
    }
   ],
   "source": [
    "print_results(fit_result_pd, 'radius', True)\n",
    "print_results(fit_result_pd, 'scale', True)\n",
    "print_results(fit_result_pd, 'background', True)\n",
    "print_results(fit_result_pd, 'radius_pd', True)"
   ]
  },
  {
   "cell_type": "markdown",
   "metadata": {},
   "source": [
    "## Plot data and model - Without polydispersion"
   ]
  },
  {
   "cell_type": "code",
   "execution_count": 60,
   "metadata": {
    "ExecuteTime": {
     "end_time": "2020-08-06T12:49:27.508745Z",
     "start_time": "2020-08-06T12:49:27.117336Z"
    }
   },
   "outputs": [
    {
     "data": {
      "image/png": "[encoded data removed]",
      "text/plain": [
       "<Figure size 432x288 with 1 Axes>"
      ]
     },
     "metadata": {
      "needs_background": "light"
     },
     "output_type": "display_data"
    }
   ],
   "source": [
    "# Plot McStas-Mantid data and SasView model. Without polydispersion.\n",
    "from numpy import logspace, linspace\n",
    "from matplotlib import pyplot as plt\n",
    "from sasmodels.core import load_model\n",
    "from sasmodels.direct_model import call_kernel\n",
    "\n",
    "# Load data\n",
    "q2, Iq2, Iqerr2 = np.loadtxt('Iq_cleaned_err.dat', unpack=True, skiprows=2)\n",
    "\n",
    "model = load_model('sphere')\n",
    "q =linspace(0.001, 0.5, num=200)\n",
    "\n",
    "kernel = model.make_kernel([q])\n",
    "Iq = call_kernel(kernel, dict(radius=25.62, scale=5.33e-05, background=6.09e-07, sld=7.0, sld_solvent=1.0))\n",
    "plt.semilogy(q, Iq, label='SasView')\n",
    "plt.semilogy(q2, Iq2, label='McStas_Mantid')\n",
    "plt.xlabel('q (1/A)')\n",
    "plt.ylabel('I(q)')\n",
    "plt.title('McStas-Mantid: Sphere radius 150 Å. Without polydispersion.')\n",
    "plt.legend(loc='upper right')\n",
    "plt.show()"
   ]
  },
  {
   "cell_type": "markdown",
   "metadata": {},
   "source": [
    "## Plot data and model - With polydispersion"
   ]
  },
  {
   "cell_type": "code",
   "execution_count": 61,
   "metadata": {
    "ExecuteTime": {
     "end_time": "2020-08-06T12:49:33.254704Z",
     "start_time": "2020-08-06T12:49:32.871648Z"
    }
   },
   "outputs": [
    {
     "data": {
      "image/png": "[encoded data removed]",
      "text/plain": [
       "<Figure size 432x288 with 1 Axes>"
      ]
     },
     "metadata": {
      "needs_background": "light"
     },
     "output_type": "display_data"
    }
   ],
   "source": [
    "# Plot McStas-Mantid data and SasView model. With polydispersion to mimic instrument resolution effects.\n",
    "# Still same mono-disperse McStas scattering kernel.\n",
    "from numpy import logspace, linspace\n",
    "from matplotlib import pyplot as plt\n",
    "from sasmodels.core import load_model\n",
    "from sasmodels.direct_model import call_kernel\n",
    "\n",
    "# Load data\n",
    "q2, Iq2, Iqerr2 = np.loadtxt('Iq_cleaned_err.dat', unpack=True, skiprows=2)\n",
    "\n",
    "model = load_model('sphere')\n",
    "q =linspace(0.001, 0.5, num=200)\n",
    "\n",
    "kernel = model.make_kernel([q])\n",
    "Iq = call_kernel(kernel, dict(radius=25.33, radius_pd=0.035,radius_pd_n=35 , scale=5.41e-05, background=9.32e-10, sld=7.0, sld_solvent=1.0))\n",
    "plt.semilogy(q, Iq, label='SasView')\n",
    "plt.semilogy(q2, Iq2, label='McStas_Mantid')\n",
    "plt.xlabel('q (1/A)')\n",
    "plt.ylabel('I(q)')\n",
    "plt.title('McStas-Mantid: Sphere radius 150 Å. With ploydispersion.')\n",
    "plt.legend(loc='upper right')\n",
    "plt.show()"
   ]
  },
  {
   "cell_type": "markdown",
   "metadata": {},
   "source": [
    "# Convert to py"
   ]
  },
  {
   "cell_type": "code",
   "execution_count": 63,
   "metadata": {
    "ExecuteTime": {
     "end_time": "2020-08-06T12:56:29.239187Z",
     "start_time": "2020-08-06T12:56:28.184937Z"
    }
   },
   "outputs": [
    {
     "name": "stdout",
     "output_type": "stream",
     "text": [
      "[jupytext] Reading SANS2D.ipynb\n",
      "[jupytext] Writing SANS2D.py (destination file replaced)\n"
     ]
    }
   ],
   "source": [
    "jupytext --to py SANS2D.ipynb"
   ]
  },
  {
   "cell_type": "code",
   "execution_count": null,
   "metadata": {},
   "outputs": [],
   "source": []
  }
 ],
 "metadata": {
  "kernelspec": {
   "display_name": "Python 3",
   "language": "python",
   "name": "python3"
  },
  "language_info": {
   "codemirror_mode": {
    "name": "ipython",
    "version": 3
   },
   "file_extension": ".py",
   "mimetype": "text/x-python",
   "name": "python",
   "nbconvert_exporter": "python",
   "pygments_lexer": "ipython3",
   "version": "3.7.8"
  },
  "toc": {
   "base_numbering": 1,
   "nav_menu": {},
   "number_sections": true,
   "sideBar": true,
   "skip_h1_title": false,
   "title_cell": "Table of Contents",
   "title_sidebar": "Contents",
   "toc_cell": false,
   "toc_position": {
    "height": "calc(100% - 180px)",
    "left": "10px",
    "top": "150px",
    "width": "306.390625px"
   },
   "toc_section_display": true,
   "toc_window_display": true
  }
 },
 "nbformat": 4,
 "nbformat_minor": 2
}
